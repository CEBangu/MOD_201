{
 "cells": [
  {
   "cell_type": "code",
   "execution_count": 444,
   "metadata": {},
   "outputs": [],
   "source": [
    "import numpy as np\n",
    "import matplotlib.pyplot as plt\n",
    "from scipy import signal\n",
    "import pandas as pd\n",
    "from scipy.sparse import random as sparse_random\n",
    "from scipy.sparse import csr_matrix\n"
   ]
  },
  {
   "cell_type": "markdown",
   "metadata": {},
   "source": [
    "network output is defined as (pg 547):\n",
    "\n",
    "$$z(t) = \\mathbf{w}^T \\mathbf{r}(t)$$\n",
    "\n",
    "network error function (pg 547):\n",
    "\n",
    "$$e_-(t) = \\mathbf{w}^T(t - \\Delta t)\\mathbf{r}(t) - f(t)$$\n",
    "\n",
    "nb! this is the error right before the weights are updated at time t. The idea is to update the weights from $\\mathbf{w}(t-\\Delta t) \\text{ to } \\mathbf{w}(t)$ in such a way as to reduce the magnitude of $e_-(t)$\n",
    "\n",
    "So, immediately after the weight update, the netwrok output, **z**, is $\\mathbf{w}^T(t)\\mathbf{r}(t)$, if the weights are updated fast enough.\n",
    "\n",
    "So, the error __after__ the weight update is $$ e_+(t) = \\mathbf{w}^T(t) \\mathbf{r}(t) - f(t) $$\n",
    "\n",
    "\n",
    "THE goal, then, is to reduce errors in the network by making $$|e_+(t)| < |e_-(t)|$$ and converging to a solution so that the weight vecotr no longer needs to be updated (pg. 548)\n",
    "\n",
    "this means that $$\\frac{e_+(t)}{e_-(t)} \\rightarrow 1$$ by the end of training (pg 548)\n",
    "\n",
    "accomplished by steady but small reduction in $e_-$ and $e_+$ over time, except for the first update which is large (pg 548). So you also want to have $\\Delta t$ be pretty short to accomplish this"
   ]
  },
  {
   "cell_type": "markdown",
   "metadata": {},
   "source": [
    "## Recursive Least Squares\n",
    "\n",
    "(Why?)\n",
    "\n",
    "RLS: $$\\mathbf{w}(t) = \\mathbf{w}(t - \\Delta t) - e_-(t) \\mathbf{P}(t) \\mathbf{r}(t)$$\n",
    "\n",
    "where **P** is an NxN matrix that is updated at the same time as the weights according to the rule: \n",
    "$$\\mathbf{P}(t) = \\mathbf{P}(t - \\Delta t) - \\frac{\\mathbf{P}(t - \\Delta t) \\mathbf{r}(t) \\mathbf{r}^T \\mathbf{P}(t - \\Delta t)}{1 + \\mathbf{r}^T(t)\\mathbf{P}(t - \\Delta t) \\mathbf{r}(t)}$$\n",
    "\n",
    "Where $$\\mathbf{P}(0) = \\frac{\\mathbf{I}}{\\alpha}$$\n",
    "Where **I** is the identity matrix, and $\\alpha$ is a constant (pg. 548)\n",
    "\n",
    "Where **P** acts a a multidimensional learning rate for the 'delta' type learning rule. So, for this algorithm, **P** is a \"Running estimate  of the inverse of teh correlation matrix of the network rates **r** plus a regularization term: $$\\mathbf{P} = \\left( \\sum_t \\mathbf{r}(t)\\mathbf{r}^T(t) + \n",
    "\\alpha \\mathbf{I} \\right)$$\n",
    "\n",
    "For subsequent timesteps, the equation above imply that: $$e_+(t) = e_-(t)(1 - \\mathbf{r}^T (t) \\mathbf{P}(t)\\mathbf{r}(t))$$\n",
    "(pg 548) so the quantity $\\mathbf{r}^T\\mathbf{P}\\mathbf{r}$ varies from around 1 to assymptotically approaching 0 over the course of training, and is always positive\n",
    "\n",
    "$\\alpha$ acts as the learning rate, and should be adjusted depending on the target function. (pg548). small values for $\\alpha$ result in fast learning but sometimes can become unstable. But, if $\\alpha$ is too big, FORCE might not be able to keep the output close to the target for long enough. use between 1 and 100 (pg 548)\n",
    "\n",
    "Learning generally takes about $1000 \\tau$ where $\\tau$ is the basic time constant of the network, which they set to around 10ms. So basically it takes around 10 seconds of simulated time for teh network to converge (549)\n",
    "\n",
    "\"To encompass all the models, we write the newtwork equations for the generator network as: \n",
    "$$\\tau \\frac{dx_i}{dt} = -x_i + g_{GG} \\sum_{j = 1}^{N_G}J_{ij}^{GG} r_j + g_{G_z} J_{i} ^{G_z} z + g_{GF} \\sum_{a = 1}^{N_F} J_{ia}^{GF} s_a + \\sum_{\\mu = 1}^{N_I} J_{i \\mu}^{GI} I_\\mu$$\n",
    "\n",
    "for $i = 1, 2, .. <1,2,..>, N_G$ with firing rates $r_i = \\tanh(x_i$) (pg 556)"
   ]
  },
  {
   "cell_type": "markdown",
   "metadata": {},
   "source": []
  },
  {
   "cell_type": "markdown",
   "metadata": {},
   "source": [
    "For figure 2 and 3, the parameters are:\n",
    "\n",
    "$$N_G = 1000\\\\\n",
    "p_{GG} = 0.1\\\\\n",
    "p_Z = 1\\\\\n",
    "g_{GG} = 1.5\\\\\n",
    "g_{Gz} = 1\\\\\n",
    "g_{GF} = 0\\\\\n",
    "\\alpha = 1.0\\\\\n",
    "N_I = 0\\\\\n",
    "\\tau = 10ms$$"
   ]
  },
  {
   "cell_type": "markdown",
   "metadata": {},
   "source": [
    "### Set up the sparse matrix"
   ]
  },
  {
   "cell_type": "code",
   "execution_count": 445,
   "metadata": {},
   "outputs": [
    {
     "name": "stdout",
     "output_type": "stream",
     "text": [
      "Matrix M shape: (1000, 1000)\n",
      "Matrix M density: 0.1\n"
     ]
    }
   ],
   "source": [
    "# Parameters\n",
    "N = 1000\n",
    "p = 0.1\n",
    "g = 1.5  # g greater than 1 leads to chaotic networks.\n",
    "alpha = 1.0\n",
    "dt = 0.1\n",
    "\n",
    "\n",
    "# Scale factor\n",
    "scale = 1.0 / np.sqrt(p * N)\n",
    "\n",
    "# Generate sparse random matrix\n",
    "M_sparse = sparse_random(N, N, density=p, format='csr', dtype=np.float64, random_state=0)\n",
    "M_sparse.data = np.random.randn(M_sparse.nnz)  # Replace non-zero elements with normally distributed values\n",
    "\n",
    "# Scale and convert to a dense matrix\n",
    "M = M_sparse * g * scale\n",
    "M = M.toarray()\n",
    "\n",
    "# Display some properties of M for verification\n",
    "print(f\"Matrix M shape: {M.shape}\")\n",
    "print(f\"Matrix M density: {np.count_nonzero(M) / M.size}\")\n"
   ]
  },
  {
   "cell_type": "markdown",
   "metadata": {},
   "source": [
    "### Set up the network class:"
   ]
  },
  {
   "cell_type": "code",
   "execution_count": 487,
   "metadata": {},
   "outputs": [],
   "source": [
    "class GenNetv2:\n",
    "    def __init__(self, N, M, alpha, g, p, delta):\n",
    "        # attributes from setup\n",
    "        self.N = N\n",
    "        self.alpha = alpha\n",
    "        self.g = g\n",
    "        self.p = p\n",
    "        self.delta = delta\n",
    "        # self.random_state = np.random.seed(0)\n",
    "\n",
    "        # general network attributes\n",
    "        self.P = np.eye(N)/self.alpha\n",
    "        self.weights = (np.random.rand(N, 1) * 0.5) /np.sqrt(self.N)\n",
    "        self.neurons = np.random.rand(N, 1) * 0.5\n",
    "        self.output = (np.random.rand(1, 1) * 0.5)\n",
    "        self.M = M\n",
    "        self.wf = 2.0 * (np.random.rand(N, 1) - 0.5) #wtf?\n",
    "        self.error = 0.0\n",
    "        self.activation = np.tanh(self.neurons)\n",
    "\n",
    "    #Helper functions\n",
    "    def neuron_activity(self):\n",
    "        return (1.0 - self.delta) * self.neurons + self.M @ (self.activation * self.delta) \\\n",
    "            + self.wf * (self.output * self.delta)\n",
    "    \n",
    "    def net_output(self):\n",
    "        return self.weights.T @ self.activation\n",
    "    \n",
    "    def get_error(self, function, timestep):\n",
    "        return self.output - function[timestep]\n",
    "    \n",
    "    def weight_update(self):\n",
    "        self.weights = self.weights - self.error * self.P @ self.activation\n",
    "\n",
    "    def P_update(self):\n",
    "        # numerator = self.P @ self.activation @ self.activation.T @ self.P\n",
    "        # denominator = 1 + self.activation.T @ self.P @ self.activation\n",
    "        k = self.P @ self.activation\n",
    "        rPr = self.activation.T @ k\n",
    "        c = 1.0 / (1.0 + rPr)\n",
    "        self.P = self.P - k @ (k.T * c)\n",
    "        # self.P = self.P - (numerator)/(denominator) #Why does this version take way longer to run?\n",
    "\n",
    "    def spontaneus_activity(self, timesteps):\n",
    "        evolution = np.zeros(timesteps)\n",
    "        # evolution[0] = self.output\n",
    "\n",
    "        neuron_dict = {13: np.zeros(timesteps), 44: np.zeros(timesteps), \n",
    "                       523: np.zeros(timesteps), 123: np.zeros(timesteps), \n",
    "                       3: np.zeros(timesteps), 14: np.zeros(timesteps), \n",
    "                       155: np.zeros(timesteps), 1: np.zeros(timesteps), \n",
    "                       99: np.zeros(timesteps), 25: np.zeros(timesteps)}\n",
    "        \n",
    "        weight_array = np.zeros((timesteps))\n",
    "        \n",
    "        for time in range(timesteps):\n",
    "            self.neurons = self.neuron_activity()\n",
    "            self.activation = np.tanh(self.neurons)\n",
    "            self.output = self.net_output()\n",
    "            evolution[time] = self.output\n",
    "            \n",
    "            w1 = self.weights\n",
    "\n",
    "            for key in neuron_dict:\n",
    "                neuron_dict[key][time] = self.neurons[key]\n",
    "            \n",
    "            w2 = self.weights\n",
    "\n",
    "            weight_array[time] = np.linalg.norm(np.gradient(w2 - w1, self.delta, axis=0))\n",
    "            \n",
    "        return evolution, neuron_dict, weight_array\n",
    "\n",
    "    #training the network\n",
    "    def train(self, function, timesteps, learn_every):\n",
    "\n",
    "        func_to_approx = function \n",
    "        evolution = np.zeros(timesteps)\n",
    "        evolution[0] = self.output\n",
    "\n",
    "        # Dictionary to store the activity of specific neurons\n",
    "        neuron_dict = {13: np.zeros(timesteps), 44: np.zeros(timesteps), \n",
    "                       523: np.zeros(timesteps), 123: np.zeros(timesteps), \n",
    "                       3: np.zeros(timesteps), 14: np.zeros(timesteps), \n",
    "                       155: np.zeros(timesteps), 1: np.zeros(timesteps), \n",
    "                       99: np.zeros(timesteps), 25: np.zeros(timesteps)}\n",
    "        for key in neuron_dict: #store first value\n",
    "            neuron_dict[key][0] = self.activation[key]\n",
    "        \n",
    "        # Array to store the norm of the derivative of the weight array\n",
    "        weight_array = np.zeros((timesteps))\n",
    "        # store first value\n",
    "        weight_array[0] = 0\n",
    "        \n",
    "        #train\n",
    "        for time in range(1, timesteps):\n",
    "            # Neuron and activation update\n",
    "            self.neurons = self.neuron_activity()\n",
    "            self.activation = np.tanh(self.neurons)\n",
    "            self.output = self.net_output()\n",
    "            evolution[time] = self.output\n",
    "            \n",
    "            #get weights at time t\n",
    "            w1 = self.weights\n",
    "\n",
    "            #store nueorn activity\n",
    "            for key in neuron_dict:\n",
    "                neuron_dict[key][time] = self.neurons[key]\n",
    "        \n",
    "            # Learning updates\n",
    "            if time % learn_every == 0:\n",
    "                self.error = self.get_error(func_to_approx, time)\n",
    "                self.P_update()\n",
    "                self.weight_update()\n",
    "            \n",
    "            #get weights at time t+1\n",
    "            w2 = self.weights\n",
    "            \n",
    "            #store weight gradient magnitude in array \n",
    "            weight_array[time] = np.linalg.norm(np.gradient(w2 - w1, self.delta, axis=0))\n",
    "                \n",
    "        return evolution, neuron_dict, weight_array"
   ]
  },
  {
   "cell_type": "code",
   "execution_count": 447,
   "metadata": {},
   "outputs": [],
   "source": [
    "# First function\n",
    "t = np.linspace(0, 1440, 1440)\n",
    "triangle = -signal.sawtooth(2 * np.pi * 5 * t, 0.5)"
   ]
  },
  {
   "cell_type": "code",
   "execution_count": 493,
   "metadata": {},
   "outputs": [],
   "source": [
    "# Instantiate object\n",
    "abc_net = GenNetv2(1000, M, 1.0, 1.5, 0.1, 0.1)"
   ]
  },
  {
   "cell_type": "code",
   "execution_count": 494,
   "metadata": {},
   "outputs": [],
   "source": [
    "first, n_1, w_1 = abc_net.spontaneus_activity(1440)\n",
    "second, n_2, w_2 = abc_net.train(triangle, 1440, 2)\n",
    "third, n_3, w_3 = abc_net.spontaneus_activity(1440)"
   ]
  },
  {
   "cell_type": "code",
   "execution_count": 495,
   "metadata": {},
   "outputs": [],
   "source": [
    "network_activity = np.append(first, second)\n",
    "network_activity = np.append(network_activity, third)\n",
    "\n",
    "for k, v in n_1.items():\n",
    "    n_2[k] = np.append(v, n_2[k])\n",
    "    n_3[k] = np.append(n_2[k], n_3[k])\n",
    "\n",
    "neuron_activity = n_3\n",
    "\n",
    "weight_activity = np.append(w_1, w_2)\n",
    "weight_activity = np.append(weight_activity, w_3)\n",
    "\n",
    "\n",
    "function = np.append(triangle, triangle)\n",
    "function = np.append(function, triangle)"
   ]
  },
  {
   "cell_type": "code",
   "execution_count": 506,
   "metadata": {},
   "outputs": [
    {
     "data": {
      "text/plain": [
       "dict_keys([13, 44, 523, 123, 3, 14, 155, 1, 99, 25])"
      ]
     },
     "execution_count": 506,
     "metadata": {},
     "output_type": "execute_result"
    }
   ],
   "source": [
    "n_3.keys()"
   ]
  },
  {
   "cell_type": "code",
   "execution_count": 527,
   "metadata": {},
   "outputs": [
    {
     "ename": "AttributeError",
     "evalue": "Line2D.set() got an unexpected keyword argument 'width'",
     "output_type": "error",
     "traceback": [
      "\u001b[0;31m---------------------------------------------------------------------------\u001b[0m",
      "\u001b[0;31mAttributeError\u001b[0m                            Traceback (most recent call last)",
      "Cell \u001b[0;32mIn[527], line 6\u001b[0m\n\u001b[1;32m      4\u001b[0m ax1\u001b[38;5;241m.\u001b[39mset_frame_on(\u001b[38;5;28;01mFalse\u001b[39;00m)\n\u001b[1;32m      5\u001b[0m ax1\u001b[38;5;241m.\u001b[39maxis(\u001b[38;5;124m'\u001b[39m\u001b[38;5;124moff\u001b[39m\u001b[38;5;124m'\u001b[39m)\n\u001b[0;32m----> 6\u001b[0m ax1\u001b[38;5;241m.\u001b[39maxvline(\u001b[38;5;241m1440\u001b[39m, width\u001b[38;5;241m=\u001b[39m\u001b[38;5;241m10\u001b[39m, alpha\u001b[38;5;241m=\u001b[39m\u001b[38;5;241m0.3\u001b[39m)\n\u001b[1;32m      8\u001b[0m ax2\u001b[38;5;241m.\u001b[39mplot(neuron_activity[\u001b[38;5;241m13\u001b[39m], color\u001b[38;5;241m=\u001b[39m\u001b[38;5;124m'\u001b[39m\u001b[38;5;124mgreen\u001b[39m\u001b[38;5;124m'\u001b[39m)\n\u001b[1;32m      9\u001b[0m ax2\u001b[38;5;241m.\u001b[39mset_frame_on(\u001b[38;5;28;01mFalse\u001b[39;00m)\n",
      "File \u001b[0;32m~/anaconda3/lib/python3.11/site-packages/matplotlib/axes/_axes.py:855\u001b[0m, in \u001b[0;36mAxes.axvline\u001b[0;34m(self, x, ymin, ymax, **kwargs)\u001b[0m\n\u001b[1;32m    852\u001b[0m scalex \u001b[38;5;241m=\u001b[39m (xx \u001b[38;5;241m<\u001b[39m xmin) \u001b[38;5;129;01mor\u001b[39;00m (xx \u001b[38;5;241m>\u001b[39m xmax)\n\u001b[1;32m    854\u001b[0m trans \u001b[38;5;241m=\u001b[39m \u001b[38;5;28mself\u001b[39m\u001b[38;5;241m.\u001b[39mget_xaxis_transform(which\u001b[38;5;241m=\u001b[39m\u001b[38;5;124m'\u001b[39m\u001b[38;5;124mgrid\u001b[39m\u001b[38;5;124m'\u001b[39m)\n\u001b[0;32m--> 855\u001b[0m l \u001b[38;5;241m=\u001b[39m mlines\u001b[38;5;241m.\u001b[39mLine2D([x, x], [ymin, ymax], transform\u001b[38;5;241m=\u001b[39mtrans, \u001b[38;5;241m*\u001b[39m\u001b[38;5;241m*\u001b[39mkwargs)\n\u001b[1;32m    856\u001b[0m \u001b[38;5;28mself\u001b[39m\u001b[38;5;241m.\u001b[39madd_line(l)\n\u001b[1;32m    857\u001b[0m \u001b[38;5;28;01mif\u001b[39;00m scalex:\n",
      "File \u001b[0;32m~/anaconda3/lib/python3.11/site-packages/matplotlib/lines.py:407\u001b[0m, in \u001b[0;36mLine2D.__init__\u001b[0;34m(self, xdata, ydata, linewidth, linestyle, color, gapcolor, marker, markersize, markeredgewidth, markeredgecolor, markerfacecolor, markerfacecoloralt, fillstyle, antialiased, dash_capstyle, solid_capstyle, dash_joinstyle, solid_joinstyle, pickradius, drawstyle, markevery, **kwargs)\u001b[0m\n\u001b[1;32m    403\u001b[0m \u001b[38;5;28mself\u001b[39m\u001b[38;5;241m.\u001b[39mset_markeredgewidth(markeredgewidth)\n\u001b[1;32m    405\u001b[0m \u001b[38;5;66;03m# update kwargs before updating data to give the caller a\u001b[39;00m\n\u001b[1;32m    406\u001b[0m \u001b[38;5;66;03m# chance to init axes (and hence unit support)\u001b[39;00m\n\u001b[0;32m--> 407\u001b[0m \u001b[38;5;28mself\u001b[39m\u001b[38;5;241m.\u001b[39m_internal_update(kwargs)\n\u001b[1;32m    408\u001b[0m \u001b[38;5;28mself\u001b[39m\u001b[38;5;241m.\u001b[39mpickradius \u001b[38;5;241m=\u001b[39m pickradius\n\u001b[1;32m    409\u001b[0m \u001b[38;5;28mself\u001b[39m\u001b[38;5;241m.\u001b[39mind_offset \u001b[38;5;241m=\u001b[39m \u001b[38;5;241m0\u001b[39m\n",
      "File \u001b[0;32m~/anaconda3/lib/python3.11/site-packages/matplotlib/artist.py:1219\u001b[0m, in \u001b[0;36mArtist._internal_update\u001b[0;34m(self, kwargs)\u001b[0m\n\u001b[1;32m   1212\u001b[0m \u001b[38;5;28;01mdef\u001b[39;00m \u001b[38;5;21m_internal_update\u001b[39m(\u001b[38;5;28mself\u001b[39m, kwargs):\n\u001b[1;32m   1213\u001b[0m \u001b[38;5;250m    \u001b[39m\u001b[38;5;124;03m\"\"\"\u001b[39;00m\n\u001b[1;32m   1214\u001b[0m \u001b[38;5;124;03m    Update artist properties without prenormalizing them, but generating\u001b[39;00m\n\u001b[1;32m   1215\u001b[0m \u001b[38;5;124;03m    errors as if calling `set`.\u001b[39;00m\n\u001b[1;32m   1216\u001b[0m \n\u001b[1;32m   1217\u001b[0m \u001b[38;5;124;03m    The lack of prenormalization is to maintain backcompatibility.\u001b[39;00m\n\u001b[1;32m   1218\u001b[0m \u001b[38;5;124;03m    \"\"\"\u001b[39;00m\n\u001b[0;32m-> 1219\u001b[0m     \u001b[38;5;28;01mreturn\u001b[39;00m \u001b[38;5;28mself\u001b[39m\u001b[38;5;241m.\u001b[39m_update_props(\n\u001b[1;32m   1220\u001b[0m         kwargs, \u001b[38;5;124m\"\u001b[39m\u001b[38;5;132;01m{cls.__name__}\u001b[39;00m\u001b[38;5;124m.set() got an unexpected keyword argument \u001b[39m\u001b[38;5;124m\"\u001b[39m\n\u001b[1;32m   1221\u001b[0m         \u001b[38;5;124m\"\u001b[39m\u001b[38;5;132;01m{prop_name!r}\u001b[39;00m\u001b[38;5;124m\"\u001b[39m)\n",
      "File \u001b[0;32m~/anaconda3/lib/python3.11/site-packages/matplotlib/artist.py:1193\u001b[0m, in \u001b[0;36mArtist._update_props\u001b[0;34m(self, props, errfmt)\u001b[0m\n\u001b[1;32m   1191\u001b[0m             func \u001b[38;5;241m=\u001b[39m \u001b[38;5;28mgetattr\u001b[39m(\u001b[38;5;28mself\u001b[39m, \u001b[38;5;124mf\u001b[39m\u001b[38;5;124m\"\u001b[39m\u001b[38;5;124mset_\u001b[39m\u001b[38;5;132;01m{\u001b[39;00mk\u001b[38;5;132;01m}\u001b[39;00m\u001b[38;5;124m\"\u001b[39m, \u001b[38;5;28;01mNone\u001b[39;00m)\n\u001b[1;32m   1192\u001b[0m             \u001b[38;5;28;01mif\u001b[39;00m \u001b[38;5;129;01mnot\u001b[39;00m \u001b[38;5;28mcallable\u001b[39m(func):\n\u001b[0;32m-> 1193\u001b[0m                 \u001b[38;5;28;01mraise\u001b[39;00m \u001b[38;5;167;01mAttributeError\u001b[39;00m(\n\u001b[1;32m   1194\u001b[0m                     errfmt\u001b[38;5;241m.\u001b[39mformat(\u001b[38;5;28mcls\u001b[39m\u001b[38;5;241m=\u001b[39m\u001b[38;5;28mtype\u001b[39m(\u001b[38;5;28mself\u001b[39m), prop_name\u001b[38;5;241m=\u001b[39mk))\n\u001b[1;32m   1195\u001b[0m             ret\u001b[38;5;241m.\u001b[39mappend(func(v))\n\u001b[1;32m   1196\u001b[0m \u001b[38;5;28;01mif\u001b[39;00m ret:\n",
      "\u001b[0;31mAttributeError\u001b[0m: Line2D.set() got an unexpected keyword argument 'width'"
     ]
    },
    {
     "data": {
      "image/png": "[encoded data removed]",
      "text/plain": [
       "<Figure size 1500x1000 with 12 Axes>"
      ]
     },
     "metadata": {},
     "output_type": "display_data"
    }
   ],
   "source": [
    "fig, (ax1, ax2, ax3, ax4, ax5, ax6, ax7, ax8, ax9, ax10, ax11, ax12) = plt.subplots(12, figsize=(15,10))\n",
    "ax1.plot(network_activity, color='blue')\n",
    "ax1.plot(function, alpha=0.3, color='orange')\n",
    "ax1.set_frame_on(False)\n",
    "ax1.axis('off')\n",
    "ax1.axvline(1440, width=10, alpha=0.3)\n",
    "\n",
    "ax2.plot(neuron_activity[13], color='green')\n",
    "ax2.set_frame_on(False)\n",
    "ax2.axis('off')\n",
    "\n",
    "ax3.plot(neuron_activity[44], color='green')\n",
    "ax3.set_frame_on(False)\n",
    "ax3.axis('off')\n",
    "\n",
    "ax4.plot(neuron_activity[523], color='green')\n",
    "ax4.set_frame_on(False)\n",
    "ax4.axis('off')\n",
    "\n",
    "ax5.plot(neuron_activity[123], color='green')\n",
    "ax5.set_frame_on(False)\n",
    "ax5.axis('off')\n",
    "\n",
    "ax6.plot(neuron_activity[3], color='green')\n",
    "ax6.set_frame_on(False)\n",
    "ax6.axis('off')\n",
    "\n",
    "ax7.plot(neuron_activity[14], color='green')\n",
    "ax7.set_frame_on(False)\n",
    "ax7.axis('off')\n",
    "\n",
    "ax8.plot(neuron_activity[155], color='green')\n",
    "ax8.set_frame_on(False)\n",
    "ax8.axis('off')\n",
    "\n",
    "ax9.plot(neuron_activity[1], color='green')\n",
    "ax9.set_frame_on(False)\n",
    "ax9.axis('off')\n",
    "\n",
    "ax10.plot(neuron_activity[99], color='green')\n",
    "ax10.set_frame_on(False)\n",
    "ax10.axis('off')\n",
    "\n",
    "ax11.plot(neuron_activity[25], color='green')\n",
    "ax11.set_frame_on(False)\n",
    "ax11.axis('off')\n",
    "\n",
    "ax12.plot(weight_activity, color='red')\n",
    "ax12.set_frame_on(False)\n",
    "ax12.axis('off')"
   ]
  },
  {
   "cell_type": "code",
   "execution_count": null,
   "metadata": {},
   "outputs": [],
   "source": []
  }
 ],
 "metadata": {
  "kernelspec": {
   "display_name": "base",
   "language": "python",
   "name": "python3"
  },
  "language_info": {
   "codemirror_mode": {
    "name": "ipython",
    "version": 3
   },
   "file_extension": ".py",
   "mimetype": "text/x-python",
   "name": "python",
   "nbconvert_exporter": "python",
   "pygments_lexer": "ipython3",
   "version": "3.11.4"
  }
 },
 "nbformat": 4,
 "nbformat_minor": 2
}
